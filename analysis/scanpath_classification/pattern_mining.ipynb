{
 "cells": [
  {
   "cell_type": "markdown",
   "id": "acb10fb5",
   "metadata": {},
   "source": [
    "# Scanpaths"
   ]
  },
  {
   "cell_type": "code",
   "execution_count": null,
   "id": "9eaaf93f",
   "metadata": {},
   "outputs": [],
   "source": [
    "import pandas as pd\n",
    "from pattern_mining.SequentialPatternMiner import SequentialPatternMiner \n",
    "import json\n",
    "from copy import deepcopy\n",
    "df = pd.read_csv(\"/home/gatemrou/uds/thesis/Thesis-Project/analysis/data/final_datasets/final_experiment_fixations.csv\")\n",
    "# squeeze: remove repeating in a row values (a, b, b, c) -> (a, b, c)\n",
    "squeeze_scanpaths = True\n",
    "\n",
    "df = df[df['AOI'] != 'non_aoi']\n",
    "df = df.groupby(['Condition', 'Subject', 'Trial']).agg({\n",
    "        'AOI': list,\n",
    "        'StrategyLabel': 'first',\n",
    "    }).reset_index()\n",
    "df = df.rename(columns={'AOI': 'Scanpath'})\n",
    "# print(\"Scanpath Example:\")\n",
    "# print(df['Scanpath'].iloc[0])\n",
    "if squeeze_scanpaths:\n",
    "    df['Scanpath'] = df['Scanpath'].apply(lambda x: [v for i, v in enumerate(x) if i == 0 or v != x[i-1]])\n",
    "# print(\"Squeezed Scanpath Example:\")\n",
    "# print(df['Scanpath'].iloc[0])"
   ]
  },
  {
   "cell_type": "markdown",
   "id": "f363b406",
   "metadata": {},
   "source": [
    "# Mine Patterns (squeezed results)"
   ]
  },
  {
   "cell_type": "code",
   "execution_count": null,
   "id": "e80b8460",
   "metadata": {},
   "outputs": [
    {
     "name": "stdout",
     "output_type": "stream",
     "text": [
      "Reading and building sequence\n",
      "dim 5, sequences 1313, events 19864\n",
      "cost 55509.697622\n",
      "0 candidates, cost: 55509.697622\n",
      "cost 55509.697622\n",
      "[]\n",
      "Reading and building sequence\n",
      "dim 5, sequences 1313, events 18454\n",
      "cost 51806.540945\n",
      "0 candidates, cost: 51806.540945\n",
      "cost 51806.540945\n",
      "[]\n",
      "Reading and building sequence\n",
      "dim 5, sequences 1212, events 8410\n",
      "cost 24960.771467\n",
      "0 candidates, cost: 24960.771467\n",
      "cost 24960.771467\n",
      "[]\n"
     ]
    }
   ],
   "source": [
    "spm = SequentialPatternMiner(df, 'Scanpath', split_by=['Condition', 'StrategyLabel'], min_support=0.1, method = 'search')\n",
    "patterns = spm.mine_patterns()\n",
    "patterns_df = deepcopy(patterns)\n",
    "patterns_df['patterns'] = patterns_df['patterns'].apply(json.dumps)\n",
    "patterns_df.to_csv(f\"/home/gatemrou/uds/thesis/Thesis-Project/analysis/scanpath_classification/pattern_mining/mined_patterns/patterns{'_squeezed' if squeeze_scanpaths else ''}.csv\", index=False)"
   ]
  },
  {
   "cell_type": "markdown",
   "id": "9cdcaf43",
   "metadata": {},
   "source": [
    "## Look at the mined patterns (unsqueezed)"
   ]
  },
  {
   "cell_type": "code",
   "execution_count": 4,
   "id": "bd81f0a8",
   "metadata": {},
   "outputs": [
    {
     "name": "stdout",
     "output_type": "stream",
     "text": [
      "{'pattern': ['trgt', 'trgt', 'trgt', 'trgt'], 'other_info': '0.000000 220.679999 120'}\n",
      "{'pattern': ['dist', 'dist', 'dist', 'dist'], 'other_info': '0.000000 185.819922 103'}\n",
      "{'pattern': ['comp', 'comp', 'comp'], 'other_info': '0.000000 176.080341 106'}\n",
      "{'pattern': ['trgt', 'trgt', 'trgt'], 'other_info': '0.000000 171.817586 102'}\n",
      "{'pattern': ['comp', 'comp', 'comp', 'comp'], 'other_info': '0.000000 164.595521 91'}\n",
      "{'pattern': ['sent_msg', 'sent_msg'], 'other_info': '0.000000 146.861742 91'}\n",
      "{'pattern': ['comp', 'comp', 'comp', 'comp', 'comp'], 'other_info': '0.000000 146.580231 77'}\n",
      "{'pattern': ['trgt', 'trgt', 'trgt', 'trgt', 'trgt'], 'other_info': '0.000000 144.963692 91'}\n",
      "{'pattern': ['dist', 'dist', 'dist'], 'other_info': '0.000000 133.164868 80'}\n",
      "{'pattern': ['trgt', 'trgt', 'trgt', 'trgt', 'trgt', 'trgt'], 'other_info': '0.000000 132.468111 76'}\n",
      "{'pattern': ['trgt', 'trgt'], 'other_info': '0.000000 131.452469 116'}\n",
      "{'pattern': ['dist', 'dist', 'dist', 'dist', 'dist', 'dist'], 'other_info': '0.000000 129.323644 153'}\n",
      "{'pattern': ['av_msgs', 'av_msgs'], 'other_info': '0.000000 128.670785 62'}\n",
      "{'pattern': ['sent_msg', 'sent_msg', 'sent_msg'], 'other_info': '0.000000 127.883039 69'}\n",
      "{'pattern': ['av_msgs', 'av_msgs', 'av_msgs', 'av_msgs'], 'other_info': '0.133690 122.275547 54'}\n",
      "{'pattern': ['sent_msg', 'sent_msg', 'sent_msg', 'sent_msg', 'sent_msg', 'sent_msg', 'sent_msg', 'sent_msg', 'sent_msg'], 'other_info': '0.000000 111.304397 91'}\n",
      "{'pattern': ['comp', 'comp'], 'other_info': '0.000000 110.669557 109'}\n",
      "{'pattern': ['sent_msg', 'sent_msg', 'sent_msg', 'sent_msg', 'sent_msg', 'sent_msg', 'sent_msg'], 'other_info': '0.000000 110.027770 50'}\n",
      "{'pattern': ['sent_msg', 'sent_msg', 'sent_msg', 'sent_msg', 'sent_msg', 'sent_msg', 'sent_msg', 'sent_msg', 'sent_msg', 'sent_msg', 'sent_msg', 'sent_msg'], 'other_info': '0.000000 109.981227 44'}\n",
      "{'pattern': ['dist', 'dist', 'dist', 'dist', 'dist', 'dist', 'dist', 'dist'], 'other_info': '0.006452 106.990439 66'}\n",
      "{'pattern': ['comp', 'comp', 'comp', 'comp', 'comp', 'comp', 'comp'], 'other_info': '0.000000 102.613742 54'}\n",
      "{'pattern': ['av_msgs', 'av_msgs', 'av_msgs'], 'other_info': '0.065217 97.074403 43'}\n",
      "{'pattern': ['sent_msg', 'sent_msg', 'sent_msg', 'sent_msg'], 'other_info': '0.000000 94.767296 53'}\n",
      "{'pattern': ['av_msgs', 'av_msgs', 'av_msgs', 'av_msgs', 'av_msgs'], 'other_info': '0.000000 88.492046 32'}\n",
      "{'pattern': ['comp', 'comp', 'comp', 'comp', 'comp', 'comp'], 'other_info': '0.000000 85.678621 58'}\n",
      "{'pattern': ['comp', 'comp', 'comp', 'comp', 'comp', 'comp', 'comp', 'comp', 'comp'], 'other_info': '0.000000 80.540347 202'}\n",
      "{'pattern': ['av_msgs', 'av_msgs', 'av_msgs', 'av_msgs', 'av_msgs', 'av_msgs'], 'other_info': '0.061224 73.170860 46'}\n",
      "{'pattern': ['trgt', 'trgt', 'trgt', 'trgt', 'trgt', 'trgt', 'trgt', 'trgt', 'trgt'], 'other_info': '0.000000 70.193632 186'}\n",
      "{'pattern': ['trgt', 'trgt', 'trgt', 'trgt', 'trgt', 'trgt', 'trgt', 'trgt'], 'other_info': '0.000000 68.639732 43'}\n",
      "{'pattern': ['sent_msg', 'sent_msg', 'sent_msg', 'sent_msg', 'sent_msg', 'sent_msg', 'sent_msg', 'sent_msg'], 'other_info': '0.000000 63.315322 41'}\n",
      "{'pattern': ['sent_msg', 'sent_msg', 'sent_msg', 'sent_msg', 'sent_msg'], 'other_info': '0.000000 61.967511 34'}\n",
      "{'pattern': ['sent_msg', 'sent_msg', 'sent_msg', 'sent_msg', 'sent_msg', 'sent_msg', 'sent_msg', 'sent_msg', 'sent_msg', 'sent_msg'], 'other_info': '0.000000 60.589662 38'}\n",
      "{'pattern': ['av_msgs', 'av_msgs', 'av_msgs', 'av_msgs', 'av_msgs', 'av_msgs', 'av_msgs', 'av_msgs', 'av_msgs'], 'other_info': '0.000000 57.215710 29'}\n",
      "{'pattern': ['dist', 'dist', 'dist', 'dist', 'dist', 'dist', 'dist', 'dist', 'dist'], 'other_info': '0.000000 50.502348 101'}\n",
      "{'pattern': ['trgt', 'trgt', 'trgt', 'trgt', 'trgt', 'trgt', 'trgt'], 'other_info': '0.000000 45.686291 43'}\n",
      "{'pattern': ['comp', 'comp', 'comp', 'comp', 'comp', 'comp', 'comp', 'comp', 'comp', 'comp', 'comp', 'comp', 'comp', 'comp', 'comp', 'comp'], 'other_info': '0.001222 43.615233 109'}\n",
      "{'pattern': ['av_msgs', 'av_msgs', 'av_msgs', 'av_msgs', 'av_msgs', 'av_msgs', 'av_msgs', 'av_msgs', 'av_msgs', 'av_msgs', 'av_msgs'], 'other_info': '0.000000 43.515585 88'}\n",
      "{'pattern': ['sent_msg', 'sent_msg', 'sent_msg', 'sent_msg', 'sent_msg', 'sent_msg', 'sent_msg', 'sent_msg', 'sent_msg', 'sent_msg', 'sent_msg'], 'other_info': '0.000000 40.518402 29'}\n",
      "{'pattern': ['av_msgs', 'av_msgs', 'av_msgs', 'av_msgs', 'av_msgs', 'av_msgs', 'av_msgs'], 'other_info': '0.000000 40.033405 24'}\n",
      "{'pattern': ['sent_msg', 'sent_msg', 'sent_msg', 'sent_msg', 'sent_msg', 'sent_msg'], 'other_info': '0.000000 39.178363 40'}\n",
      "{'pattern': ['av_msgs', 'av_msgs', 'av_msgs', 'av_msgs', 'av_msgs', 'av_msgs', 'av_msgs', 'av_msgs', 'av_msgs', 'av_msgs'], 'other_info': '0.000000 38.091363 25'}\n",
      "{'pattern': ['dist', 'dist', 'dist', 'dist', 'dist'], 'other_info': '0.000000 33.210962 67'}\n",
      "{'pattern': ['trgt', 'trgt', 'trgt', 'trgt', 'trgt', 'trgt', 'trgt', 'trgt', 'trgt', 'trgt', 'trgt', 'trgt', 'trgt', 'trgt', 'trgt', 'trgt'], 'other_info': '0.002016 32.816546 99'}\n",
      "{'pattern': ['comp', 'comp', 'comp', 'comp', 'comp', 'comp', 'comp', 'comp'], 'other_info': '0.000000 32.046845 33'}\n",
      "{'pattern': ['dist', 'dist'], 'other_info': '0.000000 21.268939 79'}\n",
      "{'pattern': ['sent_msg', 'sent_msg', 'sent_msg', 'sent_msg', 'sent_msg', 'sent_msg', 'sent_msg', 'sent_msg', 'sent_msg', 'sent_msg', 'sent_msg', 'sent_msg', 'sent_msg'], 'other_info': '0.000000 20.952180 241'}\n",
      "{'pattern': ['dist', 'dist', 'dist', 'dist', 'dist', 'dist', 'dist', 'dist', 'dist', 'dist', 'dist', 'dist', 'dist', 'dist', 'dist', 'dist'], 'other_info': '0.000000 17.830154 58'}\n",
      "{'pattern': ['av_msgs', 'av_msgs', 'av_msgs', 'av_msgs', 'av_msgs', 'av_msgs', 'av_msgs', 'av_msgs'], 'other_info': '0.000000 15.176775 20'}\n",
      "{'pattern': ['comp', 'trgt', 'comp', 'comp', 'comp', 'dist', 'comp', 'comp'], 'other_info': '0.282051 0.448525 4'}\n"
     ]
    }
   ],
   "source": [
    "import pandas as pd\n",
    "try:\n",
    "    patterns = pd.read_csv(\"/home/gatemrou/uds/thesis/Thesis-Project/analysis/scanpath_classification/pattern_mining/mined_patterns/patterns.csv\")\n",
    "except FileNotFoundError:\n",
    "    patterns = spm.get_patterns()   \n",
    "patterns['patterns'] = patterns['patterns'].apply(eval)\n",
    "complexL0 = patterns[(patterns['Condition'] == 'complex') & (patterns['StrategyLabel'] == 0)]['patterns'].iloc[0]\n",
    "mean_length = sum([len(pattern['pattern']) for pattern in complexL0]) / len(complexL0)\n",
    "for pattern in complexL0:\n",
    "        print(pattern)\n",
    "\n"
   ]
  },
  {
   "cell_type": "markdown",
   "id": "d824fd89",
   "metadata": {},
   "source": [
    "## Most are uninteresting as they are just repetitions of the same region of interest :(\n",
    "## So look at the ones having at least two unique values\n",
    "\n",
    "### class L0"
   ]
  },
  {
   "cell_type": "code",
   "execution_count": 5,
   "id": "d1298584",
   "metadata": {},
   "outputs": [
    {
     "name": "stdout",
     "output_type": "stream",
     "text": [
      "Mean length of patterns in complexL0: 6.857142857142857\n",
      "{'pattern': ['comp', 'trgt', 'comp', 'comp', 'comp', 'dist', 'comp', 'comp'], 'other_info': '0.282051 0.448525 4'}\n"
     ]
    }
   ],
   "source": [
    "print(f\"Mean length of patterns in complexL0: {mean_length}\")\n",
    "for pattern in complexL0:\n",
    "    if len(set(pattern['pattern'])) > 1:\n",
    "        print(pattern)"
   ]
  },
  {
   "cell_type": "markdown",
   "id": "2ea57505",
   "metadata": {},
   "source": [
    "### class L1"
   ]
  },
  {
   "cell_type": "code",
   "execution_count": 6,
   "id": "fbf438a0",
   "metadata": {},
   "outputs": [
    {
     "name": "stdout",
     "output_type": "stream",
     "text": [
      "Mean length of patterns in complexL1: 7.042553191489362\n",
      "{'pattern': ['comp', 'comp', 'comp', 'comp', 'comp', 'comp', 'comp', 'trgt', 'comp', 'comp'], 'other_info': '0.000000 23.464133 11'}\n"
     ]
    }
   ],
   "source": [
    "complexL1 = patterns[(patterns['Condition'] == 'complex') & (patterns['StrategyLabel'] == 1)]['patterns'].iloc[0]\n",
    "mean_length = sum([len(pattern['pattern']) for pattern in complexL1]) / len(complexL1)\n",
    "print(f\"Mean length of patterns in complexL1: {mean_length}\")\n",
    "for pattern in complexL1:\n",
    "    if len(set(pattern['pattern'])) > 1:\n",
    "        print(pattern)"
   ]
  },
  {
   "cell_type": "markdown",
   "id": "e3d9adbf",
   "metadata": {},
   "source": [
    "### class L2"
   ]
  },
  {
   "cell_type": "code",
   "execution_count": 7,
   "id": "6f02ace2",
   "metadata": {},
   "outputs": [
    {
     "name": "stdout",
     "output_type": "stream",
     "text": [
      "Mean length of patterns in complexL2: 8.205479452054794\n",
      "{'pattern': ['dist', 'dist', 'dist', 'trgt', 'dist'], 'other_info': '0.284553 53.321024 22'}\n",
      "{'pattern': ['dist', 'dist', 'av_msgs', 'dist', 'av_msgs'], 'other_info': '0.073684 43.866654 22'}\n",
      "{'pattern': ['dist', 'comp', 'dist', 'comp', 'comp', 'comp', 'dist', 'comp', 'dist', 'comp', 'comp', 'comp'], 'other_info': '0.300353 33.384663 18'}\n",
      "{'pattern': ['dist', 'comp', 'dist', 'comp', 'comp', 'comp'], 'other_info': '0.174757 32.975822 17'}\n",
      "{'pattern': ['av_msgs', 'av_msgs', 'av_msgs', 'trgt', 'av_msgs', 'av_msgs'], 'other_info': '0.318182 18.433975 9'}\n",
      "{'pattern': ['comp', 'comp', 'comp', 'trgt', 'comp', 'comp', 'comp', 'comp', 'comp'], 'other_info': '0.316239 6.499309 10'}\n",
      "{'pattern': ['trgt', 'trgt', 'trgt', 'trgt', 'trgt', 'av_msgs', 'trgt'], 'other_info': '0.000000 -3.129117 28'}\n"
     ]
    }
   ],
   "source": [
    "complexL2 = patterns[(patterns['Condition'] == 'complex') & (patterns['StrategyLabel'] == 2)]['patterns'].iloc[0]\n",
    "mean_length = sum([len(pattern['pattern']) for pattern in complexL2]) / len(complexL2)\n",
    "print(f\"Mean length of patterns in complexL2: {mean_length}\")\n",
    "for pattern in complexL2:\n",
    "    if len(set(pattern['pattern'])) > 1:\n",
    "        print(pattern)"
   ]
  },
  {
   "cell_type": "code",
   "execution_count": 41,
   "id": "fb22f503",
   "metadata": {},
   "outputs": [
    {
     "name": "stdout",
     "output_type": "stream",
     "text": [
      "Condition: unambiguous, Strategy: L0\n",
      "-----------------------------------------------\n",
      "Patterns found: 32\n",
      "Mean length of patterns in unambiguousL0: 6.31\n",
      "Top-3 patterns:\n",
      "    sent_msg * 10 \n",
      "        support: 161\n",
      "    trgt * 8 \n",
      "        support: 143\n",
      "    sent_msg * 3 \n",
      "        support: 132\n",
      "Unique Patterns\n",
      "    pattern: ['dist', 'dist', 'dist', 'trgt', 'dist'] \n",
      "        support: 27\n",
      "Condition: unambiguous, Strategy: L1\n",
      "-----------------------------------------------\n",
      "Patterns found: 30\n",
      "Mean length of patterns in unambiguousL1: 4.77\n",
      "Top-3 patterns:\n",
      "    trgt * 7 \n",
      "        support: 233\n",
      "    sent_msg * 8 \n",
      "        support: 134\n",
      "    sent_msg * 9 \n",
      "        support: 131\n",
      "Unique Patterns\n",
      "    pattern: ['dist', 'trgt', 'dist', 'dist', 'dist'] \n",
      "        support: 18\n",
      "Condition: unambiguous, Strategy: L2\n",
      "-----------------------------------------------\n",
      "Patterns found: 42\n",
      "Mean length of patterns in unambiguousL2: 6.52\n",
      "Top-3 patterns:\n",
      "    trgt * 10 \n",
      "        support: 308\n",
      "    sent_msg * 8 \n",
      "        support: 256\n",
      "    sent_msg * 11 \n",
      "        support: 235\n",
      "Unique Patterns\n",
      "    pattern: ['comp', 'trgt', 'comp', 'comp', 'comp', 'comp', 'comp', 'comp'] \n",
      "        support: 7\n",
      "Condition: simple, Strategy: L0\n",
      "-----------------------------------------------\n",
      "Patterns found: 52\n",
      "Mean length of patterns in simpleL0: 7.5\n",
      "Top-3 patterns:\n",
      "    dist * 9 \n",
      "        support: 165\n",
      "    trgt * 10 \n",
      "        support: 136\n",
      "    sent_msg * 9 \n",
      "        support: 134\n",
      "Unique Patterns\n",
      "    pattern: ['dist', 'trgt', 'dist', 'dist', 'trgt', 'dist', 'trgt', 'trgt', 'trgt'] \n",
      "        support: 26\n",
      "    pattern: ['comp', 'comp', 'comp', 'comp', 'comp', 'comp', 'comp', 'comp', 'comp', 'trgt', 'comp'] \n",
      "        support: 9\n",
      "    pattern: ['trgt', 'dist', 'trgt', 'trgt', 'trgt'] \n",
      "        support: 8\n",
      "    pattern: ['dist', 'trgt', 'dist', 'dist'] \n",
      "        support: 6\n",
      "    pattern: ['comp', 'comp', 'comp', 'comp', 'comp', 'comp', 'dist', 'comp', 'comp'] \n",
      "        support: 6\n",
      "Condition: simple, Strategy: L1\n",
      "-----------------------------------------------\n",
      "Patterns found: 45\n",
      "Mean length of patterns in simpleL1: 6.82\n",
      "Top-3 patterns:\n",
      "    comp * 8 \n",
      "        support: 161\n",
      "    trgt * 6 \n",
      "        support: 156\n",
      "    sent_msg * 10 \n",
      "        support: 135\n",
      "Unique Patterns\n",
      "    pattern: ['trgt', 'trgt', 'trgt', 'av_msgs', 'trgt', 'av_msgs'] \n",
      "        support: 11\n",
      "    pattern: ['dist', 'trgt', 'dist', 'dist', 'dist'] \n",
      "        support: 9\n",
      "    pattern: ['dist', 'dist', 'dist', 'comp', 'dist', 'dist', 'dist'] \n",
      "        support: 8\n",
      "Condition: simple, Strategy: L2\n",
      "-----------------------------------------------\n",
      "Patterns found: 68\n",
      "Mean length of patterns in simpleL2: 7.91\n",
      "Top-3 patterns:\n",
      "    comp * 8 \n",
      "        support: 369\n",
      "    trgt * 14 \n",
      "        support: 354\n",
      "    trgt * 2 \n",
      "        support: 300\n",
      "Unique Patterns\n",
      "    pattern: ['comp', 'av_msgs', 'comp', 'comp', 'av_msgs'] \n",
      "        support: 36\n",
      "    pattern: ['dist', 'dist', 'dist', 'sent_msg', 'dist'] \n",
      "        support: 31\n",
      "    pattern: ['trgt', 'comp', 'trgt', 'trgt', 'trgt'] \n",
      "        support: 23\n",
      "    pattern: ['dist', 'comp', 'dist', 'dist', 'dist'] \n",
      "        support: 21\n",
      "    pattern: ['dist', 'dist', 'dist', 'av_msgs', 'dist', 'av_msgs'] \n",
      "        support: 19\n",
      "    pattern: ['av_msgs', 'av_msgs', 'av_msgs', 'av_msgs', 'av_msgs', 'trgt', 'av_msgs', 'av_msgs', 'av_msgs'] \n",
      "        support: 15\n",
      "    pattern: ['comp', 'sent_msg', 'comp', 'comp', 'comp', 'comp', 'comp'] \n",
      "        support: 10\n",
      "    pattern: ['sent_msg', 'trgt', 'sent_msg', 'sent_msg', 'sent_msg', 'sent_msg', 'sent_msg', 'sent_msg', 'sent_msg'] \n",
      "        support: 6\n",
      "Condition: complex, Strategy: L0\n",
      "-----------------------------------------------\n",
      "Patterns found: 49\n",
      "Mean length of patterns in complexL0: 6.86\n",
      "Top-3 patterns:\n",
      "    sent_msg * 13 \n",
      "        support: 241\n",
      "    comp * 9 \n",
      "        support: 202\n",
      "    trgt * 9 \n",
      "        support: 186\n",
      "Unique Patterns\n",
      "    pattern: ['comp', 'trgt', 'comp', 'comp', 'comp', 'dist', 'comp', 'comp'] \n",
      "        support: 4\n",
      "Condition: complex, Strategy: L1\n",
      "-----------------------------------------------\n",
      "Patterns found: 47\n",
      "Mean length of patterns in complexL1: 7.04\n",
      "Top-3 patterns:\n",
      "    comp * 6 \n",
      "        support: 203\n",
      "    sent_msg * 9 \n",
      "        support: 185\n",
      "    dist * 6 \n",
      "        support: 171\n",
      "Unique Patterns\n",
      "    pattern: ['comp', 'comp', 'comp', 'comp', 'comp', 'comp', 'comp', 'trgt', 'comp', 'comp'] \n",
      "        support: 11\n",
      "Condition: complex, Strategy: L2\n",
      "-----------------------------------------------\n",
      "Patterns found: 73\n",
      "Mean length of patterns in complexL2: 8.21\n",
      "Top-3 patterns:\n",
      "    trgt * 13 \n",
      "        support: 535\n",
      "    dist * 11 \n",
      "        support: 480\n",
      "    trgt * 2 \n",
      "        support: 403\n",
      "Unique Patterns\n",
      "    pattern: ['trgt', 'trgt', 'trgt', 'trgt', 'trgt', 'av_msgs', 'trgt'] \n",
      "        support: 28\n",
      "    pattern: ['dist', 'dist', 'dist', 'trgt', 'dist'] \n",
      "        support: 22\n",
      "    pattern: ['dist', 'dist', 'av_msgs', 'dist', 'av_msgs'] \n",
      "        support: 22\n",
      "    pattern: ['dist', 'comp', 'dist', 'comp', 'comp', 'comp', 'dist', 'comp', 'dist', 'comp', 'comp', 'comp'] \n",
      "        support: 18\n",
      "    pattern: ['dist', 'comp', 'dist', 'comp', 'comp', 'comp'] \n",
      "        support: 17\n",
      "    pattern: ['comp', 'comp', 'comp', 'trgt', 'comp', 'comp', 'comp', 'comp', 'comp'] \n",
      "        support: 10\n",
      "    pattern: ['av_msgs', 'av_msgs', 'av_msgs', 'trgt', 'av_msgs', 'av_msgs'] \n",
      "        support: 9\n"
     ]
    }
   ],
   "source": [
    "conditions = ['unambiguous', 'simple', 'complex']\n",
    "strategies = [0, 1, 2]\n",
    "k = 3\n",
    "for condition in conditions:\n",
    "    for strategy in strategies:\n",
    "        print(f\"Condition: {condition}, Strategy: L{strategy}\")\n",
    "        print(\"-----------------------------------------------\")\n",
    "        cur_patterns = patterns[(patterns['Condition'] == condition) & (patterns['StrategyLabel'] == strategy)]['patterns'].iloc[0]\n",
    "        print(f\"Patterns found: {len(cur_patterns)}\")\n",
    "        mean_length = sum([len(pattern['pattern']) for pattern in cur_patterns]) / len(cur_patterns)\n",
    "        print(f\"Mean length of patterns in {condition}L{strategy}: {round(mean_length, 2)}\")\n",
    "        print(f\"Top-{k} patterns:\")\n",
    "        ordered_patterns = [(pattern['pattern'], int(pattern['other_info'].split()[-1])) for pattern in cur_patterns]\n",
    "        ordered_patterns = sorted(ordered_patterns, key=lambda a : a[1], reverse=True)\n",
    "        for i, pattern in enumerate(ordered_patterns):\n",
    "            if i > k-1:\n",
    "                break\n",
    "\n",
    "            if (len(set(pattern[0])) == 1):\n",
    "                compressed_pattern = f\"{pattern[0][0]} * {len(pattern[0])}\"\n",
    "                print(f\"    {compressed_pattern} \\n        support: {pattern[1]}\")\n",
    "            else:\n",
    "                print(f\"    pattern: {pattern[1]} \\n        support: {pattern[1]}\")\n",
    "\n",
    "        print(\"Unique Patterns\")\n",
    "        for pattern in ordered_patterns:\n",
    "            if len(set(pattern[0])) > 1:\n",
    "                print(f\"    pattern: {pattern[0]} \\n        support: {pattern[1]}\")\n"
   ]
  },
  {
   "cell_type": "code",
   "execution_count": null,
   "id": "adfa0845",
   "metadata": {},
   "outputs": [],
   "source": []
  }
 ],
 "metadata": {
  "kernelspec": {
   "display_name": "ml2024",
   "language": "python",
   "name": "python3"
  },
  "language_info": {
   "codemirror_mode": {
    "name": "ipython",
    "version": 3
   },
   "file_extension": ".py",
   "mimetype": "text/x-python",
   "name": "python",
   "nbconvert_exporter": "python",
   "pygments_lexer": "ipython3",
   "version": "3.12.3"
  }
 },
 "nbformat": 4,
 "nbformat_minor": 5
}
