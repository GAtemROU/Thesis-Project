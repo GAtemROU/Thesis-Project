{
 "cells": [
  {
   "cell_type": "code",
   "execution_count": 1,
   "outputs": [],
   "source": [
    "import networkx as nx\n",
    "from skmine.graph.graphmdl.graph_mdl import GraphMDL\n",
    "from skmine.graph.graphmdl import utils"
   ],
   "metadata": {
    "collapsed": false,
    "pycharm": {
     "name": "#%%\n"
    }
   }
  },
  {
   "cell_type": "code",
   "execution_count": 2,
   "outputs": [
    {
     "data": {
      "text/plain": "0"
     },
     "execution_count": 2,
     "metadata": {},
     "output_type": "execute_result"
    }
   ],
   "source": [
    "graph = nx.MultiDiGraph()\n",
    "graph.add_node(1, label=\"Book\")\n",
    "graph.add_node(2, label=\"Book\")\n",
    "graph.add_node(3, label=\"Book\")\n",
    "graph.add_node(4)\n",
    "graph.nodes[4]['label'] = 'xsd:string', 'Value:Alice'\n",
    "graph.add_node(5, label=\"Person\")\n",
    "graph.add_node(6, label=\"Person\")\n",
    "graph.add_node(7)\n",
    "graph.nodes[7]['label'] = 'xsd:string', 'Value:Bob'\n",
    "graph.add_node(8, label=\"City\")\n",
    "graph.add_node(9, label=\"City\")\n",
    "graph.add_node(10, label=\"Monument\")\n",
    "graph.add_node(11, label=\"Monument\")\n",
    "graph.add_node(12)\n",
    "graph.add_node(13)\n",
    "graph.nodes[12]['label'] = 'xsd:integer', 'Value:123'\n",
    "graph.nodes[13]['label'] = 'xsd:integer', 'Value:123'\n",
    "graph.add_edge(1, 5, label='author')\n",
    "graph.add_edge(2, 5, label='author')\n",
    "graph.add_edge(3, 5, label='author')\n",
    "graph.add_edge(3, 6, label='author')\n",
    "graph.add_edge(5, 4, label='name')\n",
    "graph.add_edge(5, 8, label='born_in')\n",
    "graph.add_edge(5, 8, label='died_in')\n",
    "graph.add_edge(6, 7, label='name')\n",
    "graph.add_edge(6, 9, label='born_in')\n",
    "graph.add_edge(6, 9, label='died_in')\n",
    "graph.add_edge(10, 8, label='is_located')\n",
    "graph.add_edge(11, 8, label='is_located')\n",
    "graph.add_edge(10, 12, label='height')\n",
    "graph.add_edge(10, 11, label='near')\n",
    "graph.add_edge(11, 10, label='near')\n",
    "graph.add_edge(11, 13, label='height')\n"
   ],
   "metadata": {
    "collapsed": false,
    "pycharm": {
     "name": "#%%\n"
    }
   }
  },
  {
   "cell_type": "code",
   "execution_count": 3,
   "outputs": [
    {
     "name": "stderr",
     "output_type": "stream",
     "text": [
      "2022-08-11 16:37:42,561 \t [INFO | code_table.py:115] > cover time...0.010002851486206055\n",
      "2022-08-11 16:37:42,561 \t [INFO | graph_mdl.py:71] > \n",
      " initial CT \n",
      " \n",
      " Pattern |usage |code_length |port_count |port_usage |port_code \n",
      "Book|3.4594316186372973|3.4594316186372973\n",
      "xsd:string|4.044394119358453|4.044394119358453\n",
      "Value:Alice|5.044394119358453|5.044394119358453\n",
      "Person|4.044394119358453|4.044394119358453\n",
      "Value:Bob|5.044394119358453|5.044394119358453\n",
      "City|4.044394119358453|4.044394119358453\n",
      "Monument|4.044394119358453|4.044394119358453\n",
      "xsd:integer|4.044394119358453|4.044394119358453\n",
      "Value:123|4.044394119358453|4.044394119358453\n",
      "author|3.0443941193584534|3.0443941193584534\n",
      "name|4.044394119358453|4.044394119358453\n",
      "born_in|4.044394119358453|4.044394119358453\n",
      "died_in|4.044394119358453|4.044394119358453\n",
      "is_located|4.044394119358453|4.044394119358453\n",
      "height|4.044394119358453|4.044394119358453\n",
      "near|4.044394119358453|4.044394119358453\n",
      "\n",
      "2022-08-11 16:37:42,561 \t [INFO | graph_mdl.py:72] > GraphMDL+ run ...\n",
      "2022-08-11 16:37:42,561 \t [INFO | graph_mdl.py:73] > Initial description length = 751.56\n",
      "2022-08-11 16:37:42,561 \t [INFO | graph_mdl.py:109] > Candidate generation and sort start .....\n",
      "2022-08-11 16:37:42,608 \t [INFO | graph_mdl.py:113] > Candidate generation and sort end.....time =0.04687929153442383\n",
      "2022-08-11 16:37:42,608 \t [INFO | graph_mdl.py:114] > candidates number = 37\n",
      "2022-08-11 16:37:42,608 \t [INFO | graph_mdl.py:115] > GraphMDL+ best Ct search start .....\n",
      "2022-08-11 16:37:42,608 \t [INFO | code_table.py:115] > cover time...0.0\n",
      "2022-08-11 16:37:42,608 \t [INFO | graph_mdl.py:132] > GraphMDL+ new ct found.....\n",
      "2022-08-11 16:37:42,608 \t [INFO | graph_mdl.py:133] > New description length = 684.0884531439981\n",
      "2022-08-11 16:37:42,608 \t [INFO | graph_mdl.py:134] > New pattern added : Book--author-->2\n",
      "\n",
      "2022-08-11 16:37:42,608 \t [INFO | graph_mdl.py:285] > Pruning start ....\n",
      "2022-08-11 16:37:42,608 \t [INFO | graph_mdl.py:300] > Pruning end ....\n",
      "2022-08-11 16:37:42,608 \t [INFO | graph_mdl.py:137] > search time = 0.0\n",
      "2022-08-11 16:37:42,608 \t [INFO | graph_mdl.py:109] > Candidate generation and sort start .....\n",
      "2022-08-11 16:37:42,639 \t [INFO | graph_mdl.py:113] > Candidate generation and sort end.....time =0.03124690055847168\n",
      "2022-08-11 16:37:42,639 \t [INFO | graph_mdl.py:114] > candidates number = 36\n",
      "2022-08-11 16:37:42,639 \t [INFO | graph_mdl.py:115] > GraphMDL+ best Ct search start .....\n",
      "2022-08-11 16:37:42,639 \t [INFO | code_table.py:115] > cover time...0.0\n",
      "2022-08-11 16:37:42,639 \t [INFO | graph_mdl.py:132] > GraphMDL+ new ct found.....\n",
      "2022-08-11 16:37:42,639 \t [INFO | graph_mdl.py:133] > New description length = 655.852887858298\n",
      "2022-08-11 16:37:42,655 \t [INFO | graph_mdl.py:134] > New pattern added : Book--author-->Person\n",
      "\n",
      "2022-08-11 16:37:42,655 \t [INFO | graph_mdl.py:285] > Pruning start ....\n",
      "2022-08-11 16:37:42,677 \t [INFO | code_table.py:115] > cover time...0.0\n",
      "2022-08-11 16:37:42,677 \t [INFO | graph_mdl.py:132] > GraphMDL+ new ct found.....\n",
      "2022-08-11 16:37:42,677 \t [INFO | graph_mdl.py:133] > New description length = 624.7197637324657\n",
      "2022-08-11 16:37:42,677 \t [INFO | graph_mdl.py:134] > New pattern added : ('xsd:integer', 'Value:123')\n",
      "2022-08-11 16:37:42,677 \t [INFO | graph_mdl.py:285] > Pruning start ....\n",
      "2022-08-11 16:37:42,708 \t [INFO | code_table.py:115] > cover time...0.015624046325683594\n",
      "2022-08-11 16:37:42,708 \t [INFO | graph_mdl.py:132] > GraphMDL+ new ct found.....\n",
      "2022-08-11 16:37:42,708 \t [INFO | graph_mdl.py:133] > New description length = 570.6606300314706\n",
      "2022-08-11 16:37:42,708 \t [INFO | graph_mdl.py:134] > New pattern added : 2--height-->('xsd:integer', 'Value:123')\n",
      "\n",
      "2022-08-11 16:37:42,708 \t [INFO | graph_mdl.py:285] > Pruning start ....\n",
      "2022-08-11 16:37:42,739 \t [INFO | code_table.py:115] > cover time...0.0\n",
      "2022-08-11 16:37:42,739 \t [INFO | graph_mdl.py:132] > GraphMDL+ new ct found.....\n",
      "2022-08-11 16:37:42,739 \t [INFO | graph_mdl.py:133] > New description length = 539.7473513283103\n",
      "2022-08-11 16:37:42,739 \t [INFO | graph_mdl.py:134] > New pattern added : 2--near-->Monument\n",
      "\n",
      "2022-08-11 16:37:42,739 \t [INFO | graph_mdl.py:285] > Pruning start ....\n",
      "2022-08-11 16:37:42,762 \t [INFO | code_table.py:115] > cover time...0.0\n",
      "2022-08-11 16:37:42,762 \t [INFO | graph_mdl.py:132] > GraphMDL+ new ct found.....\n",
      "2022-08-11 16:37:42,777 \t [INFO | graph_mdl.py:133] > New description length = 507.5523844563896\n",
      "2022-08-11 16:37:42,777 \t [INFO | graph_mdl.py:134] > New pattern added : 1--name-->xsd:string\n",
      "\n",
      "2022-08-11 16:37:42,777 \t [INFO | graph_mdl.py:285] > Pruning start ....\n",
      "2022-08-11 16:37:42,793 \t [INFO | code_table.py:115] > cover time...0.0\n",
      "2022-08-11 16:37:42,793 \t [INFO | graph_mdl.py:132] > GraphMDL+ new ct found.....\n",
      "2022-08-11 16:37:42,793 \t [INFO | graph_mdl.py:133] > New description length = 505.2019189584068\n",
      "2022-08-11 16:37:42,793 \t [INFO | graph_mdl.py:134] > New pattern added : 2--is_located-->City\n",
      "\n",
      "2022-08-11 16:37:42,793 \t [INFO | graph_mdl.py:285] > Pruning start ....\n",
      "2022-08-11 16:37:42,824 \t [INFO | code_table.py:115] > cover time...0.0\n",
      "2022-08-11 16:37:42,824 \t [INFO | graph_mdl.py:132] > GraphMDL+ new ct found.....\n",
      "2022-08-11 16:37:42,824 \t [INFO | graph_mdl.py:133] > New description length = 458.2809571048485\n",
      "2022-08-11 16:37:42,824 \t [INFO | graph_mdl.py:134] > New pattern added : 1--born_in-->2\n",
      "1--died_in-->2\n",
      "\n",
      "2022-08-11 16:37:42,824 \t [INFO | graph_mdl.py:285] > Pruning start ....\n",
      "2022-08-11 16:37:42,862 \t [INFO | code_table.py:115] > cover time...0.006506443023681641\n",
      "2022-08-11 16:37:42,862 \t [INFO | graph_mdl.py:132] > GraphMDL+ new ct found.....\n",
      "2022-08-11 16:37:42,862 \t [INFO | graph_mdl.py:133] > New description length = 438.4170412439471\n",
      "2022-08-11 16:37:42,862 \t [INFO | graph_mdl.py:134] > New pattern added : 2--near-->Monument\n",
      "2--is_located-->City\n",
      "\n",
      "2022-08-11 16:37:42,862 \t [INFO | graph_mdl.py:285] > Pruning start ....\n",
      "2022-08-11 16:37:42,893 \t [INFO | code_table.py:115] > cover time...0.0\n",
      "2022-08-11 16:37:42,893 \t [INFO | graph_mdl.py:132] > GraphMDL+ new ct found.....\n",
      "2022-08-11 16:37:42,893 \t [INFO | graph_mdl.py:133] > New description length = 418.6004251486019\n",
      "2022-08-11 16:37:42,893 \t [INFO | graph_mdl.py:134] > New pattern added : 1--name-->xsd:string\n",
      "1--born_in-->3\n",
      "1--died_in-->3\n",
      "\n",
      "2022-08-11 16:37:42,893 \t [INFO | graph_mdl.py:285] > Pruning start ....\n",
      "2022-08-11 16:37:42,940 \t [INFO | code_table.py:115] > cover time...0.0\n",
      "2022-08-11 16:37:42,956 \t [INFO | code_table.py:115] > cover time...0.015623331069946289\n",
      "2022-08-11 16:37:42,956 \t [INFO | graph_mdl.py:132] > GraphMDL+ new ct found.....\n",
      "2022-08-11 16:37:42,956 \t [INFO | graph_mdl.py:133] > New description length = 398.68575099774966\n",
      "2022-08-11 16:37:42,956 \t [INFO | graph_mdl.py:134] > New pattern added : Monument--height-->('xsd:integer', 'Value:123')\n",
      "2--near-->Monument\n",
      "2--is_located-->City\n",
      "\n",
      "2022-08-11 16:37:42,962 \t [INFO | graph_mdl.py:285] > Pruning start ....\n",
      "2022-08-11 16:37:43,009 \t [INFO | code_table.py:115] > cover time...0.0\n",
      "2022-08-11 16:37:43,025 \t [INFO | code_table.py:115] > cover time...0.015624284744262695\n",
      "2022-08-11 16:37:43,025 \t [INFO | graph_mdl.py:132] > GraphMDL+ new ct found.....\n",
      "2022-08-11 16:37:43,025 \t [INFO | graph_mdl.py:133] > New description length = 373.8241251257258\n",
      "2022-08-11 16:37:43,025 \t [INFO | graph_mdl.py:134] > New pattern added : Monument--height-->('xsd:integer', 'Value:123')\n",
      "Monument--near-->Monument\n",
      "Monument--is_located-->City\n",
      "Monument--near-->Monument\n",
      "Monument--is_located-->City\n",
      "Monument--height-->('xsd:integer', 'Value:123')\n",
      "\n",
      "2022-08-11 16:37:43,025 \t [INFO | graph_mdl.py:285] > Pruning start ....\n",
      "2022-08-11 16:37:43,094 \t [INFO | code_table.py:115] > cover time...0.015624523162841797\n",
      "2022-08-11 16:37:43,094 \t [INFO | code_table.py:115] > cover time...0.0\n",
      "2022-08-11 16:37:43,109 \t [INFO | code_table.py:115] > cover time...0.015623807907104492\n",
      "2022-08-11 16:37:43,109 \t [INFO | graph_mdl.py:132] > GraphMDL+ new ct found.....\n",
      "2022-08-11 16:37:43,109 \t [INFO | graph_mdl.py:133] > New description length = 349.4204049244783\n",
      "2022-08-11 16:37:43,109 \t [INFO | graph_mdl.py:134] > New pattern added : 1--name-->xsd:string\n",
      "1--born_in-->City\n",
      "1--died_in-->City\n",
      "\n",
      "2022-08-11 16:37:43,109 \t [INFO | graph_mdl.py:285] > Pruning start ....\n",
      "2022-08-11 16:37:43,178 \t [INFO | code_table.py:115] > cover time...0.0\n",
      "2022-08-11 16:37:43,194 \t [INFO | code_table.py:115] > cover time...0.015624046325683594\n",
      "2022-08-11 16:37:43,194 \t [INFO | code_table.py:115] > cover time...0.0\n",
      "2022-08-11 16:37:43,210 \t [INFO | code_table.py:115] > cover time...0.015625953674316406\n",
      "2022-08-11 16:37:43,210 \t [INFO | code_table.py:115] > cover time...0.0\n",
      "2022-08-11 16:37:43,225 \t [INFO | code_table.py:115] > cover time...0.015624761581420898\n",
      "2022-08-11 16:37:43,225 \t [INFO | graph_mdl.py:143] > Search time = 0.0468747615814209\n",
      "2022-08-11 16:37:43,225 \t [INFO | graph_mdl.py:246] > GraphMDL+ end .....\n",
      "2022-08-11 16:37:43,225 \t [INFO | code_table.py:115] > cover time...0.0\n",
      "2022-08-11 16:37:43,225 \t [INFO | graph_mdl.py:250] > Final description length = 349.42\n",
      "2022-08-11 16:37:43,225 \t [INFO | graph_mdl.py:251] > Number of patterns found = 5\n"
     ]
    },
    {
     "data": {
      "text/plain": "<skmine.graph.graphmdl.graph_mdl.GraphMDL at 0x18154a957f0>"
     },
     "execution_count": 3,
     "metadata": {},
     "output_type": "execute_result"
    }
   ],
   "source": [
    "mdl = GraphMDL(debug=True) # Initialize Graph mdl\n",
    "mdl.fit(graph) # Run the algorithm with the graph"
   ],
   "metadata": {
    "collapsed": false,
    "pycharm": {
     "name": "#%%\n"
    }
   }
  },
  {
   "cell_type": "code",
   "execution_count": null,
   "outputs": [],
   "source": [],
   "metadata": {
    "collapsed": false,
    "pycharm": {
     "name": "#%%\n"
    }
   }
  }
 ],
 "metadata": {
  "kernelspec": {
   "display_name": "Python 3",
   "language": "python",
   "name": "python3"
  },
  "language_info": {
   "codemirror_mode": {
    "name": "ipython",
    "version": 2
   },
   "file_extension": ".py",
   "mimetype": "text/x-python",
   "name": "python",
   "nbconvert_exporter": "python",
   "pygments_lexer": "ipython2",
   "version": "2.7.6"
  }
 },
 "nbformat": 4,
 "nbformat_minor": 0
}