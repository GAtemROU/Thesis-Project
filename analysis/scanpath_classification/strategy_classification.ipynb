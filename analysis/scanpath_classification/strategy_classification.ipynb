{
 "cells": [
  {
   "cell_type": "code",
   "execution_count": 4,
   "id": "23e11c52",
   "metadata": {},
   "outputs": [],
   "source": [
    "import numpy as np\n",
    "import pandas as pd\n",
    "from sklearn.tree import DecisionTreeClassifier\n",
    "from sklearn.model_selection import train_test_split\n",
    "from sklearn.metrics import f1_score\n",
    "from MarkovModels.MarkovModelConstructor import MarkovModelConstructor\n",
    "from sklearn.neighbors import KNeighborsClassifier\n",
    "from sklearn.neural_network import MLPClassifier\n",
    "from sklearn.model_selection import StratifiedKFold, cross_val_score, train_test_split\n",
    "\n",
    "from sklearn.tree import export_text\n"
   ]
  },
  {
   "cell_type": "code",
   "execution_count": null,
   "id": "4179fa4b",
   "metadata": {},
   "outputs": [],
   "source": [
    "path = \"/home/gatemrou/uds/thesis/Thesis-Project/analysis/data/final_datasets/final_experiment_fixations.csv\"\n",
    "df = pd.read_csv(path)\n",
    "states = ['sent_msg', 'trgt', 'comp', 'dist', 'av_msgs']\n",
    "keep_non_aoi = False\n",
    "if keep_non_aoi:\n",
    "    states.append('non_aoi')\n",
    "MarkovModelConstr = MarkovModelConstructor(states)\n",
    "save_path = '/home/gatemrou/uds/thesis/Thesis-Project/analysis/data/markov_models'\n",
    "for explode in [False, True]:\n",
    "    for per in ['participant', 'trial']:\n",
    "        MarkovModelConstr.create_markov_models(df, states, include_non_aoi=False, save=True, explode=explode, per=per, save_path=save_path)\n"
   ]
  },
  {
   "cell_type": "code",
   "execution_count": 5,
   "id": "b4ce4a0f",
   "metadata": {},
   "outputs": [],
   "source": [
    "\n",
    "def fit_classifier(df: pd.DataFrame, model, target):\n",
    "    features = [col for col in df.columns if col != target]\n",
    "    X = df[features].to_numpy()\n",
    "    y = df[target].to_numpy()\n",
    "    \n",
    "\n",
    "    # perform cv to estimate performance better \n",
    "\n",
    "    param_grid = {\n",
    "        \"max_depth\": [3, 4],\n",
    "        \"min_samples_split\": [10, 15, 20],\n",
    "        \"min_samples_leaf\": [5, 10, 15],\n",
    "        \"ccp_alpha\": [0.0001, 0.005, 0.01],\n",
    "        \"max_features\": [None]\n",
    "    }\n",
    "\n",
    "    \n",
    "    from sklearn.model_selection import GridSearchCV\n",
    "    grid_search = GridSearchCV(model, param_grid, cv=5, scoring='f1_weighted', n_jobs=-1)\n",
    "    grid_search.fit(X, y)\n",
    "    print(f\"Best parameters: {grid_search.best_params_}\")\n",
    "    print(f\"Best score: {grid_search.best_score_:.2f}\")\n",
    "    model = grid_search.best_estimator_\n",
    "\n",
    "    return model\n",
    "\n",
    "def visualize_tree_classifier(model, feature_names):\n",
    "    from sklearn.tree import export_graphviz\n",
    "    import graphviz\n",
    "\n",
    "    dot_data = export_graphviz(model, out_file=None, \n",
    "                               feature_names=feature_names,  \n",
    "                               class_names=list(map(str, model.classes_)),  \n",
    "                               filled=True, rounded=True,  \n",
    "                               special_characters=True)  \n",
    "    graph = graphviz.Source(dot_data)  \n",
    "    return graph\n"
   ]
  },
  {
   "cell_type": "code",
   "execution_count": 6,
   "id": "970631e2",
   "metadata": {},
   "outputs": [
    {
     "name": "stdout",
     "output_type": "stream",
     "text": [
      "Index(['StrategyLabel', 'TrgtPos', 'MsgType', 'sent_msg_to_sent_msg',\n",
      "       'sent_msg_to_trgt', 'sent_msg_to_comp', 'sent_msg_to_dist',\n",
      "       'sent_msg_to_av_msgs', 'trgt_to_sent_msg', 'trgt_to_trgt',\n",
      "       'trgt_to_comp', 'trgt_to_dist', 'trgt_to_av_msgs', 'comp_to_sent_msg',\n",
      "       'comp_to_trgt', 'comp_to_comp', 'comp_to_dist', 'comp_to_av_msgs',\n",
      "       'dist_to_sent_msg', 'dist_to_trgt', 'dist_to_comp', 'dist_to_dist',\n",
      "       'dist_to_av_msgs', 'av_msgs_to_sent_msg', 'av_msgs_to_trgt',\n",
      "       'av_msgs_to_comp', 'av_msgs_to_dist', 'av_msgs_to_av_msgs'],\n",
      "      dtype='object')\n",
      "Processing condition: simple\n",
      "Best parameters: {'ccp_alpha': 0.0001, 'max_depth': 4, 'max_features': None, 'min_samples_leaf': 15, 'min_samples_split': 10}\n",
      "Best score: 0.47\n",
      "Processing condition: complex\n",
      "Best parameters: {'ccp_alpha': 0.0001, 'max_depth': 4, 'max_features': None, 'min_samples_leaf': 10, 'min_samples_split': 10}\n",
      "Best score: 0.51\n"
     ]
    }
   ],
   "source": [
    "path = \"/home/gatemrou/uds/thesis/Thesis-Project/analysis/data/final_datasets/final_experiment_fixations.csv\"\n",
    "df = pd.read_csv(path)\n",
    "states = ['sent_msg', 'trgt', 'comp', 'dist', 'av_msgs']\n",
    "keep_non_aoi = False\n",
    "if keep_non_aoi:\n",
    "    states.append('non_aoi')\n",
    "MarkovModelConstr = MarkovModelConstructor(states)\n",
    "save_path = '/home/gatemrou/uds/thesis/Thesis-Project/analysis/data/markov_models'\n",
    "df = MarkovModelConstr.create_markov_models(df, states, include_non_aoi=False, save=False, explode=True, per='participant')\n",
    "assert df is not None, \"DataFrame should not be None after Markov Model construction\"\n",
    "df.drop(columns=['Scanpath', 'TransitionMatrix', 'Subject', 'Correct'], inplace=True)\n",
    "target = 'StrategyLabel'\n",
    "print(df.columns.drop('Condition'))\n",
    "\n",
    "for condition in ['simple', 'complex']:\n",
    "    print(f\"Processing condition: {condition}\")\n",
    "    df_condition = df[df['Condition'] == condition]\n",
    "    df_condition = df_condition.drop(columns=['Condition'])\n",
    "    df_condition = pd.get_dummies(df_condition, columns=['MsgType'], drop_first=True)\n",
    "\n",
    "    scanp_model_tree = DecisionTreeClassifier(random_state=42, criterion='gini', class_weight='balanced', max_depth=3, ccp_alpha=0.001)\n",
    "    scanp_fitted_model_tree = fit_classifier(df_condition, scanp_model_tree, target)\n",
    "\n",
    "    graph = visualize_tree_classifier(scanp_fitted_model_tree, feature_names=list(df_condition.columns.drop(target)))\n",
    "    graph.render(f\"tree_visualizations/tree_classifier_scanp_{condition}\", format='png', cleanup=True)\n",
    "\n"
   ]
  },
  {
   "cell_type": "code",
   "execution_count": 8,
   "id": "8a3af2f7",
   "metadata": {},
   "outputs": [
    {
     "name": "stdout",
     "output_type": "stream",
     "text": [
      "Index(['PropTimeOnSentMsg', 'PropTimeOnAvailableMsgs', 'PropTimeOnTrgt',\n",
      "       'PropTimeOnDist', 'PropTimeOnComp', 'PropTimeOnNonAOI',\n",
      "       'RateTogglingAvailableMsgs', 'NumTogglesAvailableMsgs',\n",
      "       'StrategyLabel'],\n",
      "      dtype='object')\n",
      "Processing condition: simple\n",
      "Best parameters: {'ccp_alpha': 0.0001, 'max_depth': 3, 'max_features': None, 'min_samples_leaf': 15, 'min_samples_split': 10}\n",
      "Best score: 0.50\n",
      "Processing condition: complex\n",
      "Best parameters: {'ccp_alpha': 0.0001, 'max_depth': 3, 'max_features': None, 'min_samples_leaf': 15, 'min_samples_split': 10}\n",
      "Best score: 0.56\n"
     ]
    }
   ],
   "source": [
    "path = \"/home/gatemrou/uds/thesis/Thesis-Project/analysis/data/final_datasets/final_experiment_participants.csv\"\n",
    "df = pd.read_csv(path)\n",
    "df = df[df['Condition'] != 'all']\n",
    "df = df.drop(columns=['AnswerAccuracy', 'Subject', 'MeanAnswerTime'])\n",
    "target = 'StrategyLabel'\n",
    "print(df.columns.drop('Condition'))\n",
    "\n",
    "for condition in ['simple', 'complex']:\n",
    "    print(f\"Processing condition: {condition}\")\n",
    "    df_condition = df[df['Condition'] == condition]\n",
    "    if df_condition.empty:\n",
    "        print(f\"No data for condition: {condition}\")\n",
    "        continue\n",
    "    \n",
    "    # Drop unnecessary columns\n",
    "    df_condition = df_condition.drop(columns=['Condition'])\n",
    "    \n",
    "    # Fit the model\n",
    "    model_tree = DecisionTreeClassifier(random_state=42, criterion='gini', class_weight='balanced', max_depth=3, ccp_alpha=0.001)\n",
    "    prop_fitted_model_tree = fit_classifier(df_condition, model_tree, target)\n",
    "    \n",
    "    # Visualize the tree classifier\n",
    "    graph = visualize_tree_classifier(prop_fitted_model_tree, feature_names=list(df_condition.columns.drop(target)))\n",
    "    graph.render(f\"tree_visualizations/tree_classifier_prop_{condition}\", format='png', cleanup=True)\n"
   ]
  },
  {
   "cell_type": "code",
   "execution_count": null,
   "id": "77d613b6",
   "metadata": {},
   "outputs": [
    {
     "name": "stdout",
     "output_type": "stream",
     "text": [
      "Model: RandomForestClassifier, Accuracy: 0.44\n",
      "Confusion Matrix:\n",
      "Predicted    complex  simple  unambiguous\n",
      "Actual                                   \n",
      "complex            7       9            4\n",
      "simple             4       9            6\n",
      "unambiguous        3       8           11\n",
      "Model: KNeighborsClassifier, Accuracy: 0.36\n",
      "Confusion Matrix:\n",
      "Predicted    complex  simple  unambiguous\n",
      "Actual                                   \n",
      "complex           11       9            0\n",
      "simple            12       7            0\n",
      "unambiguous       10       8            4\n",
      "Model: MLPClassifier, Accuracy: 0.56\n",
      "Confusion Matrix:\n",
      "Predicted    complex  simple  unambiguous\n",
      "Actual                                   \n",
      "complex            8      11            1\n",
      "simple             6      10            3\n",
      "unambiguous        1       5           16\n"
     ]
    },
    {
     "name": "stderr",
     "output_type": "stream",
     "text": [
      "/home/gatemrou/venvs/ml2024/lib/python3.12/site-packages/sklearn/neural_network/_multilayer_perceptron.py:691: ConvergenceWarning: Stochastic Optimizer: Maximum iterations (500) reached and the optimization hasn't converged yet.\n",
      "  warnings.warn(\n"
     ]
    }
   ],
   "source": [
    "path = \"/home/gatemrou/uds/thesis/Thesis-Project/analysis/data/final_datasets/final_experiment_fixations.csv\"\n",
    "df = pd.read_csv(path)\n",
    "states = ['sent_msg', 'trgt', 'comp', 'dist', 'av_msgs']\n",
    "keep_non_aoi = False\n",
    "if keep_non_aoi:\n",
    "    states.append('non_aoi')\n",
    "MarkovModelConstr = MarkovModelConstructor(states)\n",
    "save_path = '/home/gatemrou/uds/thesis/Thesis-Project/analysis/data/markov_models'\n",
    "df = MarkovModelConstr.create_markov_models(df, states, include_non_aoi=False, save=False, explode=True, per='participant')\n",
    "assert df is not None, \"DataFrame should not be None after Markov Model construction\"\n",
    "df = pd.get_dummies(df, columns=['MsgType'], drop_first=True)\n",
    "from sklearn.ensemble import RandomForestClassifier\n",
    "target = 'Condition'\n",
    "df.drop(columns=['Scanpath', 'TransitionMatrix', 'Subject', 'Correct'], inplace=True)\n",
    "\n",
    "model_forest = RandomForestClassifier(n_estimators=1, random_state=42, criterion='gini')\n",
    "fitted_model_forest = fit_classifier(df, model_forest, target)\n",
    "# model_knn = KNeighborsClassifier(n_neighbors=20)\n",
    "# fitted_model_knn = fit_classifier(df, model_knn, target)\n",
    "# model_nn = MLPClassifier(hidden_layer_sizes=(100, 50), max_iter=500, random_state=42)\n",
    "# fitted_model_nn = fit_classifier(df, model_nn, target)"
   ]
  },
  {
   "cell_type": "code",
   "execution_count": 7,
   "id": "38cd9481",
   "metadata": {},
   "outputs": [
    {
     "name": "stdout",
     "output_type": "stream",
     "text": [
      "Features:  ['PropTimeOnSentMsg', 'PropTimeOnAvailableMsgs', 'PropTimeOnTrgt', 'PropTimeOnDist', 'PropTimeOnComp', 'PropTimeOnNonAOI', 'RateTogglingAvailableMsgs', 'MeanAnswerTime', 'AnswerAccuracy', 'StrategyLabel_1.0', 'StrategyLabel_2.0']\n",
      "Model: RandomForestClassifier, Accuracy: 0.61\n",
      "Confusion Matrix:\n",
      "Predicted    complex  simple  unambiguous\n",
      "Actual                                   \n",
      "complex           10       4            3\n",
      "simple             9      13            2\n",
      "unambiguous        3       3           14\n",
      "Model: KNeighborsClassifier, Accuracy: 0.61\n",
      "Confusion Matrix:\n",
      "Predicted    complex  simple  unambiguous\n",
      "Actual                                   \n",
      "complex           12       3            2\n",
      "simple             9       9            6\n",
      "unambiguous        2       2           16\n",
      "Model: MLPClassifier, Accuracy: 0.39\n",
      "Confusion Matrix:\n",
      "Predicted    complex  simple\n",
      "Actual                      \n",
      "complex            0      17\n",
      "simple             0      24\n",
      "unambiguous        1      19\n"
     ]
    }
   ],
   "source": [
    "path = \"/home/gatemrou/uds/thesis/Thesis-Project/analysis/data/final_datasets/final_experiment_participants.csv\"\n",
    "df = pd.read_csv(path)\n",
    "df = df[df['Condition'] != 'all']\n",
    "target = 'Condition'\n",
    "df = df.drop(columns=['Subject'])\n",
    "df = pd.get_dummies(df, columns=['StrategyLabel'], drop_first=True)\n",
    "print('Features: ', df.columns.drop(target).tolist())\n",
    "\n",
    "model_forest = RandomForestClassifier(n_estimators=1, random_state=42, criterion='gini')\n",
    "fitted_model_forest = fit_classifier(df, model_forest, target)\n",
    "model_knn = KNeighborsClassifier(n_neighbors=15)\n",
    "fitted_model_knn = fit_classifier(df, model_knn, target)\n",
    "model_nn = MLPClassifier(hidden_layer_sizes=(10, 5), max_iter=500, random_state=42, solver='adam')\n",
    "fitted_model_nn = fit_classifier(df, model_nn, target)"
   ]
  },
  {
   "cell_type": "code",
   "execution_count": null,
   "id": "ecff67b2",
   "metadata": {},
   "outputs": [],
   "source": []
  }
 ],
 "metadata": {
  "kernelspec": {
   "display_name": "ml2024",
   "language": "python",
   "name": "python3"
  },
  "language_info": {
   "codemirror_mode": {
    "name": "ipython",
    "version": 3
   },
   "file_extension": ".py",
   "mimetype": "text/x-python",
   "name": "python",
   "nbconvert_exporter": "python",
   "pygments_lexer": "ipython3",
   "version": "3.12.3"
  }
 },
 "nbformat": 4,
 "nbformat_minor": 5
}
