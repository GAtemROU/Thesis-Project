{
 "cells": [
  {
   "cell_type": "code",
   "execution_count": 2,
   "id": "23e11c52",
   "metadata": {},
   "outputs": [],
   "source": [
    "import numpy as np\n",
    "import pandas as pd\n",
    "from sklearn.model_selection import train_test_split\n",
    "from sklearn.metrics import f1_score\n",
    "from MarkovModels.MarkovModelConstructor import MarkovModelConstructor\n",
    "from sklearn.neighbors import KNeighborsClassifier\n",
    "from sklearn.neural_network import MLPClassifier"
   ]
  },
  {
   "cell_type": "code",
   "execution_count": 1,
   "id": "4179fa4b",
   "metadata": {},
   "outputs": [
    {
     "ename": "NameError",
     "evalue": "name 'pd' is not defined",
     "output_type": "error",
     "traceback": [
      "\u001b[0;31m---------------------------------------------------------------------------\u001b[0m",
      "\u001b[0;31mNameError\u001b[0m                                 Traceback (most recent call last)",
      "Cell \u001b[0;32mIn[1], line 2\u001b[0m\n\u001b[1;32m      1\u001b[0m path \u001b[38;5;241m=\u001b[39m \u001b[38;5;124m\"\u001b[39m\u001b[38;5;124m/home/gatemrou/uds/thesis/Thesis-Project/analysis/data/final_datasets/final_experiment_fixations.csv\u001b[39m\u001b[38;5;124m\"\u001b[39m\n\u001b[0;32m----> 2\u001b[0m df \u001b[38;5;241m=\u001b[39m \u001b[43mpd\u001b[49m\u001b[38;5;241m.\u001b[39mread_csv(path)\n\u001b[1;32m      3\u001b[0m states \u001b[38;5;241m=\u001b[39m [\u001b[38;5;124m'\u001b[39m\u001b[38;5;124msent_msg\u001b[39m\u001b[38;5;124m'\u001b[39m, \u001b[38;5;124m'\u001b[39m\u001b[38;5;124mtrgt\u001b[39m\u001b[38;5;124m'\u001b[39m, \u001b[38;5;124m'\u001b[39m\u001b[38;5;124mcomp\u001b[39m\u001b[38;5;124m'\u001b[39m, \u001b[38;5;124m'\u001b[39m\u001b[38;5;124mdist\u001b[39m\u001b[38;5;124m'\u001b[39m, \u001b[38;5;124m'\u001b[39m\u001b[38;5;124mav_msgs\u001b[39m\u001b[38;5;124m'\u001b[39m]\n\u001b[1;32m      4\u001b[0m keep_non_aoi \u001b[38;5;241m=\u001b[39m \u001b[38;5;28;01mFalse\u001b[39;00m\n",
      "\u001b[0;31mNameError\u001b[0m: name 'pd' is not defined"
     ]
    }
   ],
   "source": [
    "path = \"/home/gatemrou/uds/thesis/Thesis-Project/analysis/data/final_datasets/final_experiment_fixations.csv\"\n",
    "df = pd.read_csv(path)\n",
    "states = ['sent_msg', 'trgt', 'comp', 'dist', 'av_msgs']\n",
    "keep_non_aoi = False\n",
    "if keep_non_aoi:\n",
    "    states.append('non_aoi')\n",
    "MarkovModelConstr = MarkovModelConstructor(states)\n",
    "save_path = '/home/gatemrou/uds/thesis/Thesis-Project/analysis/data/markov_models'\n",
    "for explode in [False, True]:\n",
    "    for per in ['participant', 'trial']:\n",
    "        MarkovModelConstr.create_markov_models(df, states, include_non_aoi=False, save=True, explode=explode, per=per, save_path=save_path)\n"
   ]
  },
  {
   "cell_type": "code",
   "execution_count": 4,
   "id": "b4ce4a0f",
   "metadata": {},
   "outputs": [],
   "source": [
    "\n",
    "def fit_classifier(df: pd.DataFrame, model, target):\n",
    "    features = [col for col in df.columns if col != target]\n",
    "    X = df[features].to_numpy()\n",
    "    y = df[target].to_numpy()\n",
    "    \n",
    "    # Split the data into training and testing sets\n",
    "    X_train, X_test, y_train, y_test = train_test_split(X, y, test_size=0.2, random_state=42)\n",
    "\n",
    "    model.fit(X_train, y_train)\n",
    "    \n",
    "    # Evaluate the model\n",
    "    conf_matrix = pd.crosstab(y_test, model.predict(X_test), rownames=['Actual'], colnames=['Predicted'])\n",
    "    f1 = f1_score(model.predict(X_test), y_test, average='micro')\n",
    "    print(f\"Model: {model.__class__.__name__}, Accuracy: {f1:.2f}\")\n",
    "    print(\"Confusion Matrix:\")\n",
    "    print(conf_matrix)\n",
    "    \n",
    "    return model\n"
   ]
  },
  {
   "cell_type": "code",
   "execution_count": 5,
   "id": "970631e2",
   "metadata": {},
   "outputs": [
    {
     "name": "stdout",
     "output_type": "stream",
     "text": [
      "Index(['StrategyLabel', 'TrgtPos', 'sent_msg_to_sent_msg', 'sent_msg_to_trgt',\n",
      "       'sent_msg_to_comp', 'sent_msg_to_dist', 'sent_msg_to_av_msgs',\n",
      "       'trgt_to_sent_msg', 'trgt_to_trgt', 'trgt_to_comp', 'trgt_to_dist',\n",
      "       'trgt_to_av_msgs', 'comp_to_sent_msg', 'comp_to_trgt', 'comp_to_comp',\n",
      "       'comp_to_dist', 'comp_to_av_msgs', 'dist_to_sent_msg', 'dist_to_trgt',\n",
      "       'dist_to_comp', 'dist_to_dist', 'dist_to_av_msgs',\n",
      "       'av_msgs_to_sent_msg', 'av_msgs_to_trgt', 'av_msgs_to_comp',\n",
      "       'av_msgs_to_dist', 'av_msgs_to_av_msgs', 'Condition_simple',\n",
      "       'Condition_unambiguous', 'MsgType_shape'],\n",
      "      dtype='object')\n",
      "Model: RandomForestClassifier, Accuracy: 0.38\n",
      "Confusion Matrix:\n",
      "Predicted   0  1   2\n",
      "Actual              \n",
      "0           3  6  11\n",
      "1           1  1   5\n",
      "2          11  4  19\n",
      "Model: KNeighborsClassifier, Accuracy: 0.56\n",
      "Confusion Matrix:\n",
      "Predicted  1   2\n",
      "Actual          \n",
      "0          2  18\n",
      "1          0   7\n",
      "2          0  34\n",
      "Model: MLPClassifier, Accuracy: 0.62\n",
      "Confusion Matrix:\n",
      "Predicted  0  1   2\n",
      "Actual             \n",
      "0          8  3   9\n",
      "1          0  1   6\n",
      "2          4  1  29\n"
     ]
    },
    {
     "name": "stderr",
     "output_type": "stream",
     "text": [
      "/home/gatemrou/venvs/ml2024/lib/python3.12/site-packages/sklearn/neural_network/_multilayer_perceptron.py:691: ConvergenceWarning: Stochastic Optimizer: Maximum iterations (500) reached and the optimization hasn't converged yet.\n",
      "  warnings.warn(\n"
     ]
    }
   ],
   "source": [
    "path = \"/home/gatemrou/uds/thesis/Thesis-Project/analysis/data/final_datasets/final_experiment_fixations.csv\"\n",
    "df = pd.read_csv(path)\n",
    "states = ['sent_msg', 'trgt', 'comp', 'dist', 'av_msgs']\n",
    "keep_non_aoi = False\n",
    "if keep_non_aoi:\n",
    "    states.append('non_aoi')\n",
    "MarkovModelConstr = MarkovModelConstructor(states)\n",
    "save_path = '/home/gatemrou/uds/thesis/Thesis-Project/analysis/data/markov_models'\n",
    "df = MarkovModelConstr.create_markov_models(df, states, include_non_aoi=False, save=False, explode=True, per='participant')\n",
    "assert df is not None, \"DataFrame should not be None after Markov Model construction\"\n",
    "# only keep simple condition\n",
    "df = pd.get_dummies(df, columns=['Condition'], drop_first=True)\n",
    "df = pd.get_dummies(df, columns=['MsgType'], drop_first=True)\n",
    "from sklearn.ensemble import RandomForestClassifier\n",
    "target = 'StrategyLabel'\n",
    "df.drop(columns=['Scanpath', 'TransitionMatrix', 'Subject', 'Correct'], inplace=True)\n",
    "print(df.columns)\n",
    "model_forest = RandomForestClassifier(n_estimators=1, random_state=42, criterion='gini', class_weight='balanced')\n",
    "fitted_model_forest = fit_classifier(df, model_forest, target)\n",
    "model_knn = KNeighborsClassifier(n_neighbors=20)\n",
    "fitted_model_knn = fit_classifier(df, model_knn, target)\n",
    "model_nn = MLPClassifier(hidden_layer_sizes=(100, 50), max_iter=500, random_state=42)\n",
    "fitted_model_nn = fit_classifier(df, model_nn, target)"
   ]
  },
  {
   "cell_type": "code",
   "execution_count": 8,
   "id": "8a3af2f7",
   "metadata": {},
   "outputs": [
    {
     "name": "stdout",
     "output_type": "stream",
     "text": [
      "Features:  ['PropTimeOnSentMsg', 'PropTimeOnAvailableMsgs', 'PropTimeOnTrgt', 'PropTimeOnDist', 'PropTimeOnComp', 'PropTimeOnNonAOI', 'RateTogglingAvailableMsgs', 'MeanAnswerTime', 'AnswerAccuracy', 'Condition_simple', 'Condition_unambiguous']\n",
      "Class weights:  {2.0: 0.5544554455445545, 0.0: 0.24752475247524752, 1.0: 0.19801980198019803}\n",
      "Model: RandomForestClassifier, Accuracy: 0.44\n",
      "Confusion Matrix:\n",
      "Predicted  0.0  1.0  2.0\n",
      "Actual                  \n",
      "0.0          4    4    8\n",
      "1.0          2    4    8\n",
      "2.0          7    5   19\n",
      "Model: KNeighborsClassifier, Accuracy: 0.46\n",
      "Confusion Matrix:\n",
      "Predicted  0.0  1.0  2.0\n",
      "Actual                  \n",
      "0.0          0    3   13\n",
      "1.0          1    0   13\n",
      "2.0          1    2   28\n",
      "Model: MLPClassifier, Accuracy: 0.23\n",
      "Confusion Matrix:\n",
      "Predicted  1.0\n",
      "Actual        \n",
      "0.0         16\n",
      "1.0         14\n",
      "2.0         31\n"
     ]
    }
   ],
   "source": [
    "path = \"/home/gatemrou/uds/thesis/Thesis-Project/analysis/data/final_datasets/final_experiment_participants.csv\"\n",
    "df = pd.read_csv(path)\n",
    "df = df[df['Condition'] != 'all']\n",
    "target = 'StrategyLabel'\n",
    "df = pd.get_dummies(df, columns=['Condition'], drop_first=True)\n",
    "df = df.drop(columns=['Subject'])\n",
    "print('Features: ', df.columns.drop(target).tolist())\n",
    "\n",
    "class_weight = df[target].value_counts(normalize=True).to_dict()\n",
    "print('Class weights: ', class_weight   )\n",
    "\n",
    "model_forest = RandomForestClassifier(n_estimators=1, random_state=42, criterion='gini', class_weight='balanced')\n",
    "fitted_model_forest = fit_classifier(df, model_forest, target)\n",
    "model_knn = KNeighborsClassifier(n_neighbors=20)\n",
    "fitted_model_knn = fit_classifier(df, model_knn, target)\n",
    "model_nn = MLPClassifier(hidden_layer_sizes=(100, 50), max_iter=500, random_state=42, solver='adam')\n",
    "fitted_model_nn = fit_classifier(df, model_nn, target)"
   ]
  },
  {
   "cell_type": "code",
   "execution_count": 6,
   "id": "77d613b6",
   "metadata": {},
   "outputs": [
    {
     "name": "stdout",
     "output_type": "stream",
     "text": [
      "Model: RandomForestClassifier, Accuracy: 0.44\n",
      "Confusion Matrix:\n",
      "Predicted    complex  simple  unambiguous\n",
      "Actual                                   \n",
      "complex            7       9            4\n",
      "simple             4       9            6\n",
      "unambiguous        3       8           11\n",
      "Model: KNeighborsClassifier, Accuracy: 0.36\n",
      "Confusion Matrix:\n",
      "Predicted    complex  simple  unambiguous\n",
      "Actual                                   \n",
      "complex           11       9            0\n",
      "simple            12       7            0\n",
      "unambiguous       10       8            4\n",
      "Model: MLPClassifier, Accuracy: 0.56\n",
      "Confusion Matrix:\n",
      "Predicted    complex  simple  unambiguous\n",
      "Actual                                   \n",
      "complex            8      11            1\n",
      "simple             6      10            3\n",
      "unambiguous        1       5           16\n"
     ]
    },
    {
     "name": "stderr",
     "output_type": "stream",
     "text": [
      "/home/gatemrou/venvs/ml2024/lib/python3.12/site-packages/sklearn/neural_network/_multilayer_perceptron.py:691: ConvergenceWarning: Stochastic Optimizer: Maximum iterations (500) reached and the optimization hasn't converged yet.\n",
      "  warnings.warn(\n"
     ]
    }
   ],
   "source": [
    "path = \"/home/gatemrou/uds/thesis/Thesis-Project/analysis/data/final_datasets/final_experiment_fixations.csv\"\n",
    "df = pd.read_csv(path)\n",
    "states = ['sent_msg', 'trgt', 'comp', 'dist', 'av_msgs']\n",
    "keep_non_aoi = False\n",
    "if keep_non_aoi:\n",
    "    states.append('non_aoi')\n",
    "MarkovModelConstr = MarkovModelConstructor(states)\n",
    "save_path = '/home/gatemrou/uds/thesis/Thesis-Project/analysis/data/markov_models'\n",
    "df = MarkovModelConstr.create_markov_models(df, states, include_non_aoi=False, save=False, explode=True, per='participant')\n",
    "assert df is not None, \"DataFrame should not be None after Markov Model construction\"\n",
    "df = pd.get_dummies(df, columns=['MsgType'], drop_first=True)\n",
    "from sklearn.ensemble import RandomForestClassifier\n",
    "target = 'Condition'\n",
    "df.drop(columns=['Scanpath', 'TransitionMatrix', 'Subject', 'Correct'], inplace=True)\n",
    "\n",
    "model_forest = RandomForestClassifier(n_estimators=1, random_state=42, criterion='gini')\n",
    "fitted_model_forest = fit_classifier(df, model_forest, target)\n",
    "model_knn = KNeighborsClassifier(n_neighbors=20)\n",
    "fitted_model_knn = fit_classifier(df, model_knn, target)\n",
    "model_nn = MLPClassifier(hidden_layer_sizes=(100, 50), max_iter=500, random_state=42)\n",
    "fitted_model_nn = fit_classifier(df, model_nn, target)"
   ]
  },
  {
   "cell_type": "code",
   "execution_count": 7,
   "id": "38cd9481",
   "metadata": {},
   "outputs": [
    {
     "name": "stdout",
     "output_type": "stream",
     "text": [
      "Features:  ['PropTimeOnSentMsg', 'PropTimeOnAvailableMsgs', 'PropTimeOnTrgt', 'PropTimeOnDist', 'PropTimeOnComp', 'PropTimeOnNonAOI', 'RateTogglingAvailableMsgs', 'MeanAnswerTime', 'AnswerAccuracy', 'StrategyLabel_1.0', 'StrategyLabel_2.0']\n",
      "Model: RandomForestClassifier, Accuracy: 0.61\n",
      "Confusion Matrix:\n",
      "Predicted    complex  simple  unambiguous\n",
      "Actual                                   \n",
      "complex           10       4            3\n",
      "simple             9      13            2\n",
      "unambiguous        3       3           14\n",
      "Model: KNeighborsClassifier, Accuracy: 0.61\n",
      "Confusion Matrix:\n",
      "Predicted    complex  simple  unambiguous\n",
      "Actual                                   \n",
      "complex           12       3            2\n",
      "simple             9       9            6\n",
      "unambiguous        2       2           16\n",
      "Model: MLPClassifier, Accuracy: 0.39\n",
      "Confusion Matrix:\n",
      "Predicted    complex  simple\n",
      "Actual                      \n",
      "complex            0      17\n",
      "simple             0      24\n",
      "unambiguous        1      19\n"
     ]
    }
   ],
   "source": [
    "path = \"/home/gatemrou/uds/thesis/Thesis-Project/analysis/data/final_datasets/final_experiment_participants.csv\"\n",
    "df = pd.read_csv(path)\n",
    "df = df[df['Condition'] != 'all']\n",
    "target = 'Condition'\n",
    "df = df.drop(columns=['Subject'])\n",
    "df = pd.get_dummies(df, columns=['StrategyLabel'], drop_first=True)\n",
    "print('Features: ', df.columns.drop(target).tolist())\n",
    "\n",
    "model_forest = RandomForestClassifier(n_estimators=1, random_state=42, criterion='gini')\n",
    "fitted_model_forest = fit_classifier(df, model_forest, target)\n",
    "model_knn = KNeighborsClassifier(n_neighbors=15)\n",
    "fitted_model_knn = fit_classifier(df, model_knn, target)\n",
    "model_nn = MLPClassifier(hidden_layer_sizes=(10, 5), max_iter=500, random_state=42, solver='adam')\n",
    "fitted_model_nn = fit_classifier(df, model_nn, target)"
   ]
  },
  {
   "cell_type": "code",
   "execution_count": null,
   "id": "ecff67b2",
   "metadata": {},
   "outputs": [],
   "source": []
  }
 ],
 "metadata": {
  "kernelspec": {
   "display_name": "ml2024",
   "language": "python",
   "name": "python3"
  },
  "language_info": {
   "codemirror_mode": {
    "name": "ipython",
    "version": 3
   },
   "file_extension": ".py",
   "mimetype": "text/x-python",
   "name": "python",
   "nbconvert_exporter": "python",
   "pygments_lexer": "ipython3",
   "version": "3.12.3"
  }
 },
 "nbformat": 4,
 "nbformat_minor": 5
}
