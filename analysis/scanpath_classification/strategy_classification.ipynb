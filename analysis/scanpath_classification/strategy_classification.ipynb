{
 "cells": [
  {
   "cell_type": "code",
   "execution_count": null,
   "id": "23e11c52",
   "metadata": {},
   "outputs": [],
   "source": [
    "import numpy as np\n",
    "import pandas as pd\n",
    "from sklearn.model_selection import train_test_split\n",
    "from sklearn.metrics import f1_score\n",
    "from MarkovModels.MarkovModelConstructor import MarkovModelConstructor\n",
    "from sklearn.neighbors import KNeighborsClassifier\n",
    "from sklearn.neural_network import MLPClassifier\n"
   ]
  },
  {
   "cell_type": "code",
   "execution_count": 38,
   "id": "b4ce4a0f",
   "metadata": {},
   "outputs": [],
   "source": [
    "\n",
    "def fit_classifier(df: pd.DataFrame, model, target):\n",
    "    features = [col for col in df.columns if col != target]\n",
    "    X = df[features].to_numpy()\n",
    "    y = df[target].to_numpy()\n",
    "    \n",
    "    # Split the data into training and testing sets\n",
    "    X_train, X_test, y_train, y_test = train_test_split(X, y, test_size=0.2, random_state=42)\n",
    "\n",
    "    model.fit(X_train, y_train)\n",
    "    \n",
    "    # Evaluate the model\n",
    "    conf_matrix = pd.crosstab(y_test, model.predict(X_test), rownames=['Actual'], colnames=['Predicted'])\n",
    "    f1 = f1_score(model.predict(X_test), y_test, average='weighted')\n",
    "    print(f\"Model: {model.__class__.__name__}, Accuracy: {f1:.2f}\")\n",
    "    print(\"Confusion Matrix:\")\n",
    "    print(conf_matrix)\n",
    "    \n",
    "    return model\n"
   ]
  },
  {
   "cell_type": "code",
   "execution_count": 39,
   "id": "970631e2",
   "metadata": {},
   "outputs": [
    {
     "name": "stderr",
     "output_type": "stream",
     "text": [
      "c:\\Users\\timur\\uds\\Thesis-Project\\analysis\\scanpath_classification\\MarkovModels\\MarkovModel.py:29: RuntimeWarning: invalid value encountered in divide\n",
      "  self.transition_matrix = self.joint_probabilities / self.prior_probabilities[:, np.newaxis]\n"
     ]
    },
    {
     "name": "stdout",
     "output_type": "stream",
     "text": [
      "Model: RandomForestClassifier, Accuracy: 0.63\n",
      "Confusion Matrix:\n",
      "Predicted  0  1  2\n",
      "Actual            \n",
      "0          2  1  3\n",
      "1          1  2  1\n",
      "2          0  2  9\n",
      "Model: KNeighborsClassifier, Accuracy: 0.69\n",
      "Confusion Matrix:\n",
      "Predicted   2\n",
      "Actual       \n",
      "0           6\n",
      "1           4\n",
      "2          11\n",
      "Model: MLPClassifier, Accuracy: 0.65\n",
      "Confusion Matrix:\n",
      "Predicted  0  1   2\n",
      "Actual             \n",
      "0          2  2   2\n",
      "1          1  1   2\n",
      "2          1  0  10\n"
     ]
    },
    {
     "name": "stderr",
     "output_type": "stream",
     "text": [
      "c:\\Users\\timur\\uds\\venvs\\thesis\\Lib\\site-packages\\sklearn\\neural_network\\_multilayer_perceptron.py:691: ConvergenceWarning: Stochastic Optimizer: Maximum iterations (500) reached and the optimization hasn't converged yet.\n",
      "  warnings.warn(\n"
     ]
    }
   ],
   "source": [
    "path = \"C:\\\\Users\\\\timur\\\\uds\\\\Thesis-Project\\\\analysis\\\\data\\\\final_datasets\\\\final_experiment_fixations.csv\"\n",
    "df = pd.read_csv(path)\n",
    "states = ['sent_msg', 'trgt', 'comp', 'dist', 'av_msgs']\n",
    "keep_non_aoi = False\n",
    "if keep_non_aoi:\n",
    "    states.append('non_aoi')\n",
    "MarkovModelConstr = MarkovModelConstructor(states)\n",
    "df = MarkovModelConstr.create_markov_models(df, states, include_non_aoi=False, save=False, explode=True, per='participant')\n",
    "# print(df.iloc[0]['TransitionMatrix'])\n",
    "assert df is not None, \"DataFrame should not be None after Markov Model construction\"\n",
    "# only keep simple condition\n",
    "df = df[df['Condition'] == 'simple']\n",
    "df.drop(columns=['Condition'], inplace=True)\n",
    "df = pd.get_dummies(df, columns=['MsgType'], drop_first=True)\n",
    "from sklearn.ensemble import RandomForestClassifier\n",
    "target = 'StrategyLabel'\n",
    "df.drop(columns=['Scanpath', 'TransitionMatrix', 'Subject', 'Correct'], inplace=True)\n",
    "\n",
    "model_forest = RandomForestClassifier(n_estimators=1, random_state=42, criterion='gini', class_weight='balanced')\n",
    "fitted_model_forest = fit_classifier(df, model_forest, target)\n",
    "model_knn = KNeighborsClassifier(n_neighbors=20)\n",
    "fitted_model_knn = fit_classifier(df, model_knn, target)\n",
    "model_nn = MLPClassifier(hidden_layer_sizes=(100, 50), max_iter=500, random_state=42)\n",
    "fitted_model_nn = fit_classifier(df, model_nn, target)"
   ]
  },
  {
   "cell_type": "code",
   "execution_count": 43,
   "id": "8a3af2f7",
   "metadata": {},
   "outputs": [
    {
     "name": "stdout",
     "output_type": "stream",
     "text": [
      "Features:  ['PropTimeOnSentMsg', 'PropTimeOnAvailableMsgs', 'PropTimeOnTrgt', 'PropTimeOnDist', 'PropTimeOnComp', 'PropTimeOnNonAOI', 'RateTogglingAvailableMsgs', 'MeanAnswerTime', 'AnswerAccuracy', 'Condition_simple', 'Condition_unambiguous']\n",
      "Class weights:  {2.0: 0.5544554455445545, 0.0: 0.24752475247524752, 1.0: 0.19801980198019803}\n",
      "Model: RandomForestClassifier, Accuracy: 0.45\n",
      "Confusion Matrix:\n",
      "Predicted  0.0  1.0  2.0\n",
      "Actual                  \n",
      "0.0          4    4    8\n",
      "1.0          2    4    8\n",
      "2.0          7    5   19\n",
      "Model: KNeighborsClassifier, Accuracy: 0.58\n",
      "Confusion Matrix:\n",
      "Predicted  0.0  1.0  2.0\n",
      "Actual                  \n",
      "0.0          0    3   13\n",
      "1.0          1    0   13\n",
      "2.0          1    2   28\n",
      "Model: MLPClassifier, Accuracy: 0.37\n",
      "Confusion Matrix:\n",
      "Predicted  1.0\n",
      "Actual        \n",
      "0.0         16\n",
      "1.0         14\n",
      "2.0         31\n"
     ]
    }
   ],
   "source": [
    "path = \"C:\\\\Users\\\\timur\\\\uds\\\\Thesis-Project\\\\analysis\\\\data\\\\final_datasets\\\\final_experiment_participants.csv\"\n",
    "df = pd.read_csv(path)\n",
    "df = df[df['Condition'] != 'all']\n",
    "target = 'StrategyLabel'\n",
    "df = pd.get_dummies(df, columns=['Condition'], drop_first=True)\n",
    "df = df.drop(columns=['Subject'])\n",
    "print('Features: ', df.columns.drop(target).tolist())\n",
    "\n",
    "class_weight = df[target].value_counts(normalize=True).to_dict()\n",
    "print('Class weights: ', class_weight   )\n",
    "\n",
    "model_forest = RandomForestClassifier(n_estimators=1, random_state=42, criterion='gini', class_weight='balanced')\n",
    "fitted_model_forest = fit_classifier(df, model_forest, target)\n",
    "model_knn = KNeighborsClassifier(n_neighbors=20)\n",
    "fitted_model_knn = fit_classifier(df, model_knn, target)\n",
    "model_nn = MLPClassifier(hidden_layer_sizes=(100, 50), max_iter=500, random_state=42, solver='adam')\n",
    "fitted_model_nn = fit_classifier(df, model_nn, target)"
   ]
  },
  {
   "cell_type": "code",
   "execution_count": 52,
   "id": "38cd9481",
   "metadata": {},
   "outputs": [
    {
     "name": "stdout",
     "output_type": "stream",
     "text": [
      "Features:  ['PropTimeOnSentMsg', 'PropTimeOnAvailableMsgs', 'PropTimeOnTrgt', 'PropTimeOnDist', 'PropTimeOnComp', 'PropTimeOnNonAOI', 'RateTogglingAvailableMsgs', 'MeanAnswerTime', 'AnswerAccuracy', 'StrategyLabel_1.0', 'StrategyLabel_2.0']\n",
      "Model: RandomForestClassifier, Accuracy: 0.60\n",
      "Confusion Matrix:\n",
      "Predicted    complex  simple  unambiguous\n",
      "Actual                                   \n",
      "complex           10       4            3\n",
      "simple             9      13            2\n",
      "unambiguous        3       3           14\n",
      "Model: KNeighborsClassifier, Accuracy: 0.62\n",
      "Confusion Matrix:\n",
      "Predicted    complex  simple  unambiguous\n",
      "Actual                                   \n",
      "complex           12       3            2\n",
      "simple             9       9            6\n",
      "unambiguous        2       2           16\n",
      "Model: MLPClassifier, Accuracy: 0.56\n",
      "Confusion Matrix:\n",
      "Predicted    complex  simple\n",
      "Actual                      \n",
      "complex            0      17\n",
      "simple             0      24\n",
      "unambiguous        1      19\n"
     ]
    }
   ],
   "source": [
    "path = \"C:\\\\Users\\\\timur\\\\uds\\\\Thesis-Project\\\\analysis\\\\data\\\\final_datasets\\\\final_experiment_participants.csv\"\n",
    "df = pd.read_csv(path)\n",
    "df = df[df['Condition'] != 'all']\n",
    "target = 'Condition'\n",
    "df = df.drop(columns=['Subject'])\n",
    "df = pd.get_dummies(df, columns=['StrategyLabel'], drop_first=True)\n",
    "print('Features: ', df.columns.drop(target).tolist())\n",
    "\n",
    "model_forest = RandomForestClassifier(n_estimators=1, random_state=42, criterion='gini')\n",
    "fitted_model_forest = fit_classifier(df, model_forest, target)\n",
    "model_knn = KNeighborsClassifier(n_neighbors=15)\n",
    "fitted_model_knn = fit_classifier(df, model_knn, target)\n",
    "model_nn = MLPClassifier(hidden_layer_sizes=(10, 5), max_iter=500, random_state=42, solver='adam')\n",
    "fitted_model_nn = fit_classifier(df, model_nn, target)"
   ]
  }
 ],
 "metadata": {
  "kernelspec": {
   "display_name": "thesis",
   "language": "python",
   "name": "python3"
  },
  "language_info": {
   "codemirror_mode": {
    "name": "ipython",
    "version": 3
   },
   "file_extension": ".py",
   "mimetype": "text/x-python",
   "name": "python",
   "nbconvert_exporter": "python",
   "pygments_lexer": "ipython3",
   "version": "3.12.10"
  }
 },
 "nbformat": 4,
 "nbformat_minor": 5
}
