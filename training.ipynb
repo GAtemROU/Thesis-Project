{
 "cells": [
  {
   "cell_type": "markdown",
   "id": "b8b2bd9f0c431b54",
   "metadata": {
    "collapsed": false
   },
   "source": [
    "# Imports"
   ]
  },
  {
   "cell_type": "code",
   "execution_count": null,
   "id": "92034c143a209923",
   "metadata": {
    "collapsed": false
   },
   "outputs": [],
   "source": [
    "import torch\n",
    "import torch.nn as nn\n",
    "import torch.optim as optim\n",
    "from os.path import join\n",
    "import datetime\n",
    "import os\n",
    "\n",
    "from CNN.models.base_line import BasicModel\n",
    "from CNN.training.trainer_base import Trainer\n",
    "from CNN.utils.transforms import ResizeTransform\n",
    "from CNN.modules.cross_validation import MyKFoldCV\n",
    "from CNN.modules.dataset_handling import DatasetHandler\n",
    "from CNN.modules.logging import MyLogger\n",
    "from CNN.utils.metrics import compute_confusion_matrices, compute_accuracy, compute_f1score\n",
    "\n",
    "torch.manual_seed(42)"
   ]
  },
  {
   "cell_type": "markdown",
   "id": "916e54747ac72e76",
   "metadata": {
    "collapsed": false
   },
   "source": [
    "# Params"
   ]
  },
  {
   "cell_type": "code",
   "execution_count": null,
   "id": "7b7acad6",
   "metadata": {
    "ExecuteTime": {
     "end_time": "2024-03-31T12:22:37.697479804Z",
     "start_time": "2024-03-31T12:22:37.696140088Z"
    }
   },
   "outputs": [],
   "source": [
    "in_size = 128             # the input images are resized to squares with length of in_size\n",
    "out_size = 2              # only 2 classes are present in the current dataset\n",
    "outer_kfolds = 5\n",
    "inner_kfolds = 4\n",
    "batch_size = 32\n",
    "learning_rate = 0.01\n",
    "labels = [1, 0]\n",
    "condition = 'simple'     # unambiguous, simple or complex\n",
    "model_type = 'base'       # base or other networks that might appear in future\n",
    "num_epochs = 20            # number of epochs per one inner fold\n",
    "verbose = True\n",
    "autosave = False          # save intermediate models during training when better validation accuracy is reached \n",
    "save_model = False         # save the final model\n",
    "project_path = 'C:/Users/timur/uds/Thesis-Project/'\n",
    "data_path = 'analysis/data/gaze_plots/'  \n"
   ]
  },
  {
   "cell_type": "markdown",
   "id": "423ecab7eafb37d8",
   "metadata": {
    "collapsed": false
   },
   "source": [
    "# Prepare for Training"
   ]
  },
  {
   "cell_type": "code",
   "execution_count": null,
   "id": "12af81f6",
   "metadata": {},
   "outputs": [],
   "source": [
    "device = torch.device(\"cuda\" if torch.cuda.is_available() else \"cpu\")\n",
    "if model_type == 'base':\n",
    "    model = BasicModel(in_size, out_size)\n",
    "if verbose:\n",
    "    print('using device: ' + device.__str__())\n",
    "# Create a dataset from image folder\n",
    "root = join(project_path, data_path, condition)\n",
    "assert os.path.exists(root), 'The folder with images does not exist'\n",
    "\n",
    "transform = ResizeTransform(in_size, in_size)\n",
    "\n",
    "if verbose:\n",
    "    print(f'Creating dataset from this folder: {root}')\n",
    "\n",
    "dataset = DatasetHandler(root, transform, sorted(labels))\n",
    "\n",
    "outer_cv = MyKFoldCV(dataset, outer_kfolds, create_train_loaders=False, batch_size=batch_size)\n",
    "\n",
    "# Define the loss function\n",
    "loss = nn.CrossEntropyLoss()\n",
    "\n",
    "# Define logger\n",
    "logger = MyLogger(join(project_path, 'experiments/{}_{}_{}/'.format(condition, model_type, in_size)))\n",
    "\n",
    "cur_time = str(datetime.datetime.now().strftime(\"%d.%m_%H%M\"))\n",
    "\n",
    "# Define trainer \n",
    "save_path = join(project_path, 'saved_models/{}s_{}_{}/'.format(condition, model_type, cur_time))\n",
    "\n",
    "trainer = Trainer(model, save_path, loss, logger=logger, autosave=autosave)"
   ]
  },
  {
   "cell_type": "markdown",
   "id": "51297ec4a50f5492",
   "metadata": {
    "collapsed": false
   },
   "source": [
    "# Training"
   ]
  },
  {
   "cell_type": "code",
   "execution_count": null,
   "id": "d4f15683",
   "metadata": {},
   "outputs": [],
   "source": [
    "for i in range(outer_cv.k):\n",
    "    trainer.reset()\n",
    "    logger.log_new_fold(i+1, outer_cv.get_test_participants())\n",
    "    inner_cv = MyKFoldCV(dataset, inner_kfolds, ignore=outer_cv.get_test_participants(), batch_size=batch_size)\n",
    "    if verbose:\n",
    "        print(f'outer fold: {i+1}')\n",
    "        print('testing on: ', outer_cv.get_test_participants())\n",
    "    if model_type == 'base':\n",
    "            model = BasicModel(in_size, out_size)\n",
    "    optimizer = optim.SGD(model.parameters(), lr=learning_rate)\n",
    "    trainer.set_optimizer(optimizer)\n",
    "    trainer.set_model(model)\n",
    "    trainer.set_save_path(join(save_path, f'fold_{i+1}'))\n",
    "    # training\n",
    "    for j in range(inner_cv.k):\n",
    "        if verbose:\n",
    "            print(f'inner fold: {j+1}')\n",
    "            print('training on: ', inner_cv.get_participants())\n",
    "        train_loader = inner_cv.get_train_loader()\n",
    "        test_loader = inner_cv.get_test_loader()\n",
    "        if verbose:\n",
    "            print('validating on: ', inner_cv.get_test_participants())\n",
    "        trainer.set_train_loader(train_loader)\n",
    "        trainer.set_val_loader(test_loader)\n",
    "        for _ in range(num_epochs):\n",
    "            trainer.run_epoch()\n",
    "        inner_cv.next_split()\n",
    "        if save_model:\n",
    "            trainer.save_best_model()\n",
    "        trainer.load_best_model()\n",
    "    # testing\n",
    "    test_loader = outer_cv.get_test_loader()\n",
    "    test_model = trainer.model\n",
    "    test_model.eval()\n",
    "    for p in outer_cv.get_test_participants():\n",
    "        assert(p not in inner_cv.get_participants())\n",
    "    acc = compute_accuracy(test_model, test_loader)\n",
    "    f1 = compute_f1score(test_model, test_loader, labels=labels, )\n",
    "    cfs = compute_confusion_matrices(test_model, dataset, outer_cv.get_test_participants(), labels = labels)\n",
    "    logger.log_test_metrics(acc, f1, cfs)\n",
    "    outer_cv.next_split()\n",
    "logger.log_f1_history()\n",
    "\n"
   ]
  },
  {
   "cell_type": "code",
   "execution_count": null,
   "id": "4a5b445e1bdb86bb",
   "metadata": {
    "ExecuteTime": {
     "end_time": "2024-03-22T12:38:31.966646734Z",
     "start_time": "2024-03-22T12:38:31.587014240Z"
    },
    "collapsed": false
   },
   "outputs": [],
   "source": [
    "import matplotlib.pyplot as plt\n",
    "import numpy as np\n",
    "\n",
    "for imgs, labs in outer_cv.get_test_loader():\n",
    "    i = 0\n",
    "    lab = labs[i]\n",
    "    input_image = imgs[i].clone().detach().requires_grad_(True)\n",
    "    # Set the model to evaluation mode\n",
    "    trainer.model.eval()\n",
    "    trainer.model.cpu()\n",
    "    \n",
    "    # Forward pass to get the output\n",
    "    output = trainer.model.forward(input_image.unsqueeze(0))  # Adding batch dimension\n",
    "    _, pred = torch.max(output, 1)\n",
    "    # Calculate gradients of the output with respect to the input image\n",
    "    output.squeeze()[pred].backward()\n",
    "    # Get the gradients from the input image\n",
    "    gradients = input_image.grad.squeeze().numpy()\n",
    "    gradients[gradients<0] = 0\n",
    "    gradients = gradients / np.max(gradients)\n",
    "\n",
    "    # Plot the gradients\n",
    "    plt.figure(figsize=(8, 6))\n",
    "    plt.imshow(np.transpose(gradients, (1, 2, 0)) )\n",
    "    plt.title(f'Gradients: {pred.item()}')\n",
    "    plt.axis('off')\n",
    "    plt.show()\n",
    "    plt.figure(figsize=(8, 6))\n",
    "    plt.imshow(np.transpose(input_image.detach().cpu().numpy(), (1, 2, 0)) )\n",
    "    plt.title(f'Input image: {lab}')\n",
    "    plt.axis('off')\n",
    "    plt.show()\n",
    "    \n"
   ]
  }
 ],
 "metadata": {
  "kernelspec": {
   "display_name": "ml2024",
   "language": "python",
   "name": "python3"
  },
  "language_info": {
   "codemirror_mode": {
    "name": "ipython",
    "version": 3
   },
   "file_extension": ".py",
   "mimetype": "text/x-python",
   "name": "python",
   "nbconvert_exporter": "python",
   "pygments_lexer": "ipython3",
   "version": "3.12.3"
  }
 },
 "nbformat": 4,
 "nbformat_minor": 5
}
